{
 "cells": [
  {
   "cell_type": "markdown",
   "metadata": {},
   "source": [
    "Luminol is a light weight python library that supports two functionalities: \n",
    "- *Anomaly Detection*: Given a time series, detect if the data contains any anomaly and gives you back a time window where the anomaly happened in, a time stamp where the anomaly reaches its severity, and a score indicating how severe is the anomaly compare to others in the time series.\n",
    "\n",
    "- *Correlation*: Given two time series, help find their correlation coefficient. Since the correlation mechanism allows a shift room, you are able to correlate two peaks that are slightly apart in time."
   ]
  },
  {
   "cell_type": "code",
   "execution_count": 14,
   "metadata": {},
   "outputs": [],
   "source": [
    "import pandas as pd\n",
    "import numpy as np\n",
    "import time\n",
    "from luminol.anomaly_detector import AnomalyDetector\n",
    "from luminol.correlator import Correlator"
   ]
  },
  {
   "cell_type": "code",
   "execution_count": 19,
   "metadata": {},
   "outputs": [
    {
     "name": "stdout",
     "output_type": "stream",
     "text": [
      "0 0.0\n",
      "1 0.8731282501307988\n",
      "2 1.5716308502354377\n",
      "3 2.1363368633427995\n",
      "4 1.70906949067424\n",
      "5 2.905418134146207\n",
      "6 1.1715411093483696\n",
      "7 0.9372328874786957\n",
      "8 0.7497863099829566\n"
     ]
    }
   ],
   "source": [
    "#Basic example of calculating anomaly scores\n",
    "\n",
    "ts = {0: 0, 1: 0.5, 2: 1, 3: 1, 4: 1, 5: 0, 6: 0, 7: 0, 8: 0}\n",
    "\n",
    "my_detector = AnomalyDetector(ts)\n",
    "score = my_detector.get_all_scores()\n",
    "for timestamp, value in score.iteritems():\n",
    "    print(timestamp, value)"
   ]
  },
  {
   "cell_type": "code",
   "execution_count": 20,
   "metadata": {},
   "outputs": [
    {
     "name": "stdout",
     "output_type": "stream",
     "text": [
      "ts2 correlate with ts1 at time period (2, 5)\n"
     ]
    }
   ],
   "source": [
    "#Correlating ts1 with ts2 on every anomaly\n",
    "\n",
    "ts1 = {0: 0, 1: 0.5, 2: 1, 3: 1, 4: 1, 5: 0, 6: 0, 7: 0, 8: 0}\n",
    "ts2 = {0: 0, 1: 0.5, 2: 1, 3: 0.5, 4: 1, 5: 0, 6: 1, 7: 1, 8: 1}\n",
    "\n",
    "my_detector = AnomalyDetector(ts1, score_threshold=1.5)\n",
    "score = my_detector.get_all_scores()\n",
    "anomalies = my_detector.get_anomalies()\n",
    "for a in anomalies:\n",
    "    time_period = a.get_time_window()\n",
    "    my_correlator = Correlator(ts1, ts2, time_period)\n",
    "    if my_correlator.is_correlated(threshold=0.8):\n",
    "        print(\"ts2 correlate with ts1 at time period (%d, %d)\" % time_period)"
   ]
  }
 ],
 "metadata": {
  "kernelspec": {
   "display_name": "Luminol",
   "language": "python",
   "name": "python3"
  },
  "language_info": {
   "codemirror_mode": {
    "name": "ipython",
    "version": 3
   },
   "file_extension": ".py",
   "mimetype": "text/x-python",
   "name": "python",
   "nbconvert_exporter": "python",
   "pygments_lexer": "ipython3",
   "version": "3.6.13"
  }
 },
 "nbformat": 4,
 "nbformat_minor": 2
}
